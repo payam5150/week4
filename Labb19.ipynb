{
 "cells": [
  {
   "cell_type": "code",
   "execution_count": 1,
   "metadata": {},
   "outputs": [
    {
     "name": "stdout",
     "output_type": "stream",
     "text": [
      "vacation_days =  1\n",
      "we did NOT increment vacation days\n"
     ]
    }
   ],
   "source": [
    "vacation_days = 1\n",
    "goals_met = False\n",
    "if goals_met:\n",
    "    # if block starts    \n",
    "    # code does not run since conditional argument is False\n",
    "    vacation_days += 1\n",
    "    print(\"vacation_days = \", vacation_days)\n",
    "    print(\"we incremented vacation days\")\n",
    "# if block ends    \n",
    "else:\n",
    "    # else block starts\n",
    "    print(\"vacation_days = \", vacation_days)\n",
    "    print(\"we did NOT increment vacation days\")\n",
    "# else block ends"
   ]
  },
  {
   "cell_type": "code",
   "execution_count": null,
   "metadata": {},
   "outputs": [],
   "source": []
  }
 ],
 "metadata": {
  "kernelspec": {
   "display_name": "Python 3",
   "language": "python",
   "name": "python3"
  },
  "language_info": {
   "codemirror_mode": {
    "name": "ipython",
    "version": 3
   },
   "file_extension": ".py",
   "mimetype": "text/x-python",
   "name": "python",
   "nbconvert_exporter": "python",
   "pygments_lexer": "ipython3",
   "version": "3.7.4"
  }
 },
 "nbformat": 4,
 "nbformat_minor": 2
}
